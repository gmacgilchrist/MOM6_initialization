{
 "cells": [
  {
   "cell_type": "code",
   "execution_count": 2,
   "metadata": {},
   "outputs": [],
   "source": [
    "# Test how ALE/MOM_regridding.F90 evaluates the interfaces of the diagnostic grid\n",
    "# when rho2 is specified and the RFNC options is noted\n",
    "# (see comments on Evernote)\n",
    "\n",
    "# This is how the function looks in the Fortran code \n",
    "# (where the terms after read are what is specified after RFNC1: in MOM_input)\n",
    "\n",
    "#   read( string, *) nk, rho_1, rho_2, rho_3, drho, rho_4, drho_min\n",
    "#   allocate(rho_target(nk+1))\n",
    "#   nki = nk + 1 - 4 ! Number of interfaces minus 4 specified values\n",
    "#   rho_target(1) = rho_1\n",
    "#   rho_target(2) = rho_2\n",
    "#   dx = 0.\n",
    "#   do k = 0, nki\n",
    "#     ddx = max( drho_min, real(nki-k)/real(nki*nki) )\n",
    "#     dx = dx + ddx\n",
    "#     rho_target(3+k) = rho_3 + (2. * drho) * dx\n",
    "#   enddo\n",
    "#   rho_target(nki+4) = rho_4"
   ]
  },
  {
   "cell_type": "code",
   "execution_count": 3,
   "metadata": {},
   "outputs": [],
   "source": [
    "import numpy as np\n",
    "from matplotlib import pyplot as plt"
   ]
  },
  {
   "cell_type": "code",
   "execution_count": 23,
   "metadata": {},
   "outputs": [],
   "source": [
    "def rho_function1(nk,rho_1,rho_2,rho_3,drho,rho_4,drho_min,plot=True):\n",
    "    rho_target = np.zeros(nk+1)\n",
    "    rho_target[:]=np.nan\n",
    "    rho_target[0]=rho_1\n",
    "    rho_target[1]=rho_2\n",
    "\n",
    "    nki = nk+1-4\n",
    "    dx = 0\n",
    "    for k in range(nki+1):\n",
    "        ddx = np.max([drho_min, (nki-k)/(nki*nki)])\n",
    "        dx = dx + ddx\n",
    "        rho_target[3-1+k] = rho_3 + (2*drho)*dx\n",
    "    \n",
    "    rho_target[nki+4-1]=rho_4\n",
    "    \n",
    "    if plot:\n",
    "        plt.plot(np.diff(rho_target),(rho_target[1:]+rho_target[:-1])/2,'.')\n",
    "        plt.gca().set_xlim([0,2])\n",
    "        plt.gca().set_title('delta rho as a function of rho')\n",
    "    \n",
    "    return rho_target"
   ]
  },
  {
   "cell_type": "code",
   "execution_count": 39,
   "metadata": {},
   "outputs": [
    {
     "data": {
      "image/png": "[encoded data removed]",
      "text/plain": [
       "<Figure size 432x288 with 1 Axes>"
      ]
     },
     "metadata": {
      "needs_background": "light"
     },
     "output_type": "display_data"
    }
   ],
   "source": [
    "nk = 35\n",
    "rho_1 = 999.5\n",
    "rho_2 = 1028\n",
    "rho_3 = 1028.5\n",
    "drho = 8\n",
    "rho_4 = 1038\n",
    "drho_min = 0.0078125\n",
    "\n",
    "rho_target = rho_function1(nk,rho_1,rho_2,rho_3,drho,rho_4,drho_min)\n",
    "\n",
    "nk = 35\n",
    "rho_1 = 999.5\n",
    "rho_2 = 1013.4\n",
    "rho_3 = 1013.5\n",
    "drho = 20\n",
    "rho_4 = 1037\n",
    "drho_min = 0.0078125\n",
    "\n",
    "rho_target = rho_function1(nk,rho_1,rho_2,rho_3,drho,rho_4,drho_min)\n",
    "\n",
    "nk = 51\n",
    "rho_1 = 999.5\n",
    "rho_2 = 1013.4\n",
    "rho_3 = 1013.5\n",
    "drho = 20\n",
    "rho_4 = 1037\n",
    "drho_min = 0.00586125\n",
    "\n",
    "rho_target = rho_function1(nk,rho_1,rho_2,rho_3,drho,rho_4,drho_min)\n",
    "\n",
    "nk = 67\n",
    "rho_1 = 999.5\n",
    "rho_2 = 1013.4\n",
    "rho_3 = 1013.5\n",
    "drho = 20\n",
    "rho_4 = 1037\n",
    "drho_min = 0.0048828125\n",
    "\n",
    "rho_target = rho_function1(nk,rho_1,rho_2,rho_3,drho,rho_4,drho_min)\n",
    "\n",
    "nk = 83\n",
    "rho_1 = 999.5\n",
    "rho_2 = 1013.4\n",
    "rho_3 = 1013.5\n",
    "drho = 20\n",
    "rho_4 = 1037\n",
    "drho_min = 0.00439453125\n",
    "\n",
    "rho_target = rho_function1(nk,rho_1,rho_2,rho_3,drho,rho_4,drho_min)\n",
    "\n",
    "# nk = 51\n",
    "# rho_1 = 999.5\n",
    "# rho_2 = 1013.4\n",
    "# rho_3 = 1013.5\n",
    "# drho = 16\n",
    "# rho_4 = 1037\n",
    "# drho_min = 0.00390625\n",
    "\n",
    "# rho_target = rho_function1(nk,rho_1,rho_2,rho_3,drho,rho_4,drho_min)\n",
    "\n",
    "# nk = 35\n",
    "# rho_1 = 999.5\n",
    "# rho_2 = 1010.5\n",
    "# rho_3 = 1010.75\n",
    "# drho = 8\n",
    "# rho_4 = 1038\n",
    "# drho_min = 0.0078125\n",
    "\n",
    "# rho_target = rho_function1(nk,rho_1,rho_2,rho_3,drho,rho_4,drho_min)\n",
    "\n",
    "# nk = 83\n",
    "# rho_1 = 999.5\n",
    "# rho_2 = 1028\n",
    "# rho_3 = 1028.125\n",
    "# drho = 8\n",
    "# rho_4 = 1038.1\n",
    "# drho_min = 0.00586125\n",
    "\n",
    "# rho_target = rho_function1(nk,rho_1,rho_2,rho_3,drho,rho_4,drho_min)"
   ]
  },
  {
   "cell_type": "code",
   "execution_count": 38,
   "metadata": {},
   "outputs": [
    {
     "data": {
      "text/plain": [
       "array([ 999.5    , 1013.4    , 1014.     , 1014.49375, 1014.98125,\n",
       "       1015.4625 , 1015.9375 , 1016.40625, 1016.86875, 1017.325  ,\n",
       "       1017.775  , 1018.21875, 1018.65625, 1019.0875 , 1019.5125 ,\n",
       "       1019.93125, 1020.34375, 1020.75   , 1021.15   , 1021.54375,\n",
       "       1021.93125, 1022.3125 , 1022.6875 , 1023.05625, 1023.41875,\n",
       "       1023.775  , 1024.125  , 1024.46875, 1024.80625, 1025.1375 ,\n",
       "       1025.4625 , 1025.78125, 1026.09375, 1026.4    , 1026.7    ,\n",
       "       1026.99375, 1027.28125, 1027.5625 , 1027.8375 , 1028.10625,\n",
       "       1028.36875, 1028.625  , 1028.875  , 1029.11875, 1029.35625,\n",
       "       1029.5875 , 1029.8125 , 1030.03125, 1030.24375, 1030.45   ,\n",
       "       1030.65   , 1030.84375, 1031.03125, 1031.2125 , 1031.3875 ,\n",
       "       1031.55625, 1031.71875, 1031.875  , 1032.03125, 1032.1875 ,\n",
       "       1032.34375, 1032.5    , 1032.65625, 1032.8125 , 1032.96875,\n",
       "       1033.125  , 1033.28125, 1033.4375 , 1033.59375, 1033.75   ,\n",
       "       1033.90625, 1034.0625 , 1034.21875, 1034.375  , 1034.53125,\n",
       "       1034.6875 , 1034.84375, 1035.     , 1035.15625, 1035.3125 ,\n",
       "       1035.46875, 1035.625  , 1035.78125, 1037.     ])"
      ]
     },
     "execution_count": 38,
     "metadata": {},
     "output_type": "execute_result"
    }
   ],
   "source": [
    "rho_target"
   ]
  },
  {
   "cell_type": "code",
   "execution_count": null,
   "metadata": {},
   "outputs": [],
   "source": []
  }
 ],
 "metadata": {
  "kernelspec": {
   "display_name": "Python 3",
   "language": "python",
   "name": "python3"
  },
  "language_info": {
   "codemirror_mode": {
    "name": "ipython",
    "version": 3
   },
   "file_extension": ".py",
   "mimetype": "text/x-python",
   "name": "python",
   "nbconvert_exporter": "python",
   "pygments_lexer": "ipython3",
   "version": "3.7.3"
  }
 },
 "nbformat": 4,
 "nbformat_minor": 2
}
