{
 "cells": [
  {
   "cell_type": "code",
   "execution_count": 1,
   "metadata": {},
   "outputs": [],
   "source": [
    "# Test how ALE/MOM_regridding.F90 evaluates the interfaces of the diagnostic grid\n",
    "# when rho2 is specified and the RFNC options is noted\n",
    "# (see comments on Evernote)\n",
    "\n",
    "# This is how the function looks in the Fortran code \n",
    "# (where the terms after read are what is specified after RFNC1: in MOM_input)\n",
    "\n",
    "#   read( string, *) nk, rho_1, rho_2, rho_3, drho, rho_4, drho_min\n",
    "#   allocate(rho_target(nk+1))\n",
    "#   nki = nk + 1 - 4 ! Number of interfaces minus 4 specified values\n",
    "#   rho_target(1) = rho_1\n",
    "#   rho_target(2) = rho_2\n",
    "#   dx = 0.\n",
    "#   do k = 0, nki\n",
    "#     ddx = max( drho_min, real(nki-k)/real(nki*nki) )\n",
    "#     dx = dx + ddx\n",
    "#     rho_target(3+k) = rho_3 + (2. * drho) * dx\n",
    "#   enddo\n",
    "#   rho_target(nki+4) = rho_4"
   ]
  },
  {
   "cell_type": "code",
   "execution_count": 1,
   "metadata": {},
   "outputs": [],
   "source": [
    "import numpy as np\n",
    "from matplotlib import pyplot as plt"
   ]
  },
  {
   "cell_type": "code",
   "execution_count": 2,
   "metadata": {},
   "outputs": [],
   "source": [
    "def rho_function1(nk,rho_1,rho_2,rho_3,drho,rho_4,drho_min,plot=True):\n",
    "    rho_target = np.zeros(nk+1)\n",
    "    rho_target[:]=np.nan\n",
    "    rho_target[0]=rho_1\n",
    "    rho_target[1]=rho_2\n",
    "\n",
    "    nki = nk+1-4\n",
    "    dx = 0\n",
    "    for k in range(nki+1):\n",
    "        ddx = np.max([drho_min, (nki-k)/(nki*nki)])\n",
    "        dx = dx + ddx\n",
    "        rho_target[3-1+k] = rho_3 + (2*drho)*dx\n",
    "    \n",
    "    rho_target[nki+4-1]=rho_4\n",
    "    \n",
    "    if plot:\n",
    "        plt.plot(np.diff(rho_target),(rho_target[1:]+rho_target[:-1])/2,'.')\n",
    "        plt.gca().set_xlim([0,1])\n",
    "        plt.gca().set_title('delta rho as a function of rho')\n",
    "    \n",
    "    return rho_target"
   ]
  },
  {
   "cell_type": "code",
   "execution_count": 8,
   "metadata": {},
   "outputs": [
    {
     "data": {
      "image/png": "[encoded data removed]",
      "text/plain": [
       "<Figure size 432x288 with 1 Axes>"
      ]
     },
     "metadata": {
      "needs_background": "light"
     },
     "output_type": "display_data"
    }
   ],
   "source": [
    "nk = 35\n",
    "rho_1 = 999.5\n",
    "rho_2 = 1028\n",
    "rho_3 = 1028.5\n",
    "drho = 8\n",
    "rho_4 = 1038\n",
    "drho_min = 0.0078125\n",
    "\n",
    "rho_target = rho_function1(nk,rho_1,rho_2,rho_3,drho,rho_4,drho_min)\n",
    "\n",
    "nk = 51\n",
    "rho_1 = 999.5\n",
    "rho_2 = 1028\n",
    "rho_3 = 1028.25\n",
    "drho = 8\n",
    "rho_4 = 1038\n",
    "drho_min = 0.0078125\n",
    "\n",
    "rho_target = rho_function1(nk,rho_1,rho_2,rho_3,drho,rho_4,drho_min)\n",
    "\n",
    "# nk = 35\n",
    "# rho_1 = 999.5\n",
    "# rho_2 = 1010.5\n",
    "# rho_3 = 1010.75\n",
    "# drho = 8\n",
    "# rho_4 = 1038\n",
    "# drho_min = 0.0078125\n",
    "\n",
    "# rho_target = rho_function1(nk,rho_1,rho_2,rho_3,drho,rho_4,drho_min)\n",
    "\n",
    "# nk = 67\n",
    "# rho_1 = 999.5\n",
    "# rho_2 = 1028\n",
    "# rho_3 = 1028.125\n",
    "# drho = 8\n",
    "# rho_4 = 1038\n",
    "# drho_min = 0.00390625\n",
    "\n",
    "# rho_target = rho_function1(nk,rho_1,rho_2,rho_3,drho,rho_4,drho_min)"
   ]
  },
  {
   "cell_type": "code",
   "execution_count": 10,
   "metadata": {},
   "outputs": [
    {
     "data": {
      "text/plain": [
       "array([ 999.5       , 1028.        , 1028.375     , 1028.62109375,\n",
       "       1028.86328125, 1029.1015625 , 1029.3359375 , 1029.56640625,\n",
       "       1029.79296875, 1030.015625  , 1030.234375  , 1030.44921875,\n",
       "       1030.66015625, 1030.8671875 , 1031.0703125 , 1031.26953125,\n",
       "       1031.46484375, 1031.65625   , 1031.84375   , 1032.02734375,\n",
       "       1032.20703125, 1032.3828125 , 1032.5546875 , 1032.72265625,\n",
       "       1032.88671875, 1033.046875  , 1033.203125  , 1033.35546875,\n",
       "       1033.50390625, 1033.6484375 , 1033.7890625 , 1033.92578125,\n",
       "       1034.05859375, 1034.1875    , 1034.3125    , 1034.43359375,\n",
       "       1034.55078125, 1034.6640625 , 1034.7734375 , 1034.87890625,\n",
       "       1034.98046875, 1035.078125  , 1035.171875  , 1035.26171875,\n",
       "       1035.34765625, 1035.4296875 , 1035.5078125 , 1035.58203125,\n",
       "       1035.65234375, 1035.71875   , 1035.78125   , 1035.84375   ,\n",
       "       1035.90625   , 1035.96875   , 1036.03125   , 1036.09375   ,\n",
       "       1036.15625   , 1036.21875   , 1036.28125   , 1036.34375   ,\n",
       "       1036.40625   , 1036.46875   , 1036.53125   , 1036.59375   ,\n",
       "       1036.65625   , 1036.71875   , 1036.78125   , 1038.        ])"
      ]
     },
     "execution_count": 10,
     "metadata": {},
     "output_type": "execute_result"
    }
   ],
   "source": [
    "rho_target"
   ]
  },
  {
   "cell_type": "code",
   "execution_count": null,
   "metadata": {},
   "outputs": [],
   "source": []
  }
 ],
 "metadata": {
  "kernelspec": {
   "display_name": "Python 3",
   "language": "python",
   "name": "python3"
  },
  "language_info": {
   "codemirror_mode": {
    "name": "ipython",
    "version": 3
   },
   "file_extension": ".py",
   "mimetype": "text/x-python",
   "name": "python",
   "nbconvert_exporter": "python",
   "pygments_lexer": "ipython3",
   "version": "3.7.3"
  }
 },
 "nbformat": 4,
 "nbformat_minor": 2
}
