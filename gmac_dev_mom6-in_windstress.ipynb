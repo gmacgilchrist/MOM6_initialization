{
 "cells": [
  {
   "cell_type": "markdown",
   "metadata": {},
   "source": [
    "# Generate windstress forcing for MOM6"
   ]
  },
  {
   "cell_type": "code",
   "execution_count": 7,
   "metadata": {},
   "outputs": [],
   "source": [
    "import numpy as np\n",
    "from netCDF4 import Dataset\n",
    "import xarray as xr\n",
    "from matplotlib import pyplot as plt"
   ]
  },
  {
   "cell_type": "code",
   "execution_count": 10,
   "metadata": {},
   "outputs": [],
   "source": [
    "# Specify geometry of horizontal grid\n",
    "# (based on MOM6 input parameters)\n",
    "\n",
    "# Latitude and longitude\n",
    "SOUTHLAT=-60.0\n",
    "LENLAT=40.0\n",
    "WESTLON=0.0\n",
    "LENLON=60.0\n",
    "\n",
    "# Number of grid cells\n",
    "NI=int(LENLON*4)\n",
    "NJ=int(LENLAT*4)\n",
    "\n",
    "# Grid point positions (tracer point)\n",
    "X=np.linspace(WESTLON,WESTLON+LENLON,NI+1)\n",
    "X1d=(X[1:] + X[:-1]) / 2\n",
    "Y=np.linspace(SOUTHLAT,SOUTHLAT+LENLAT,NJ+1)\n",
    "Y1d=(Y[1:] + Y[:-1]) / 2\n",
    "# 2D mesh of grid point positions\n",
    "X,Y=np.meshgrid(X1d,Y1d)\n",
    "# Define lat and lon dimensions set to zero at the midpoint\n",
    "X0 = xr.DataArray(np.linspace(-NI/2,NI/2,NI),coords=[X1d],dims='lon')\n",
    "Y0 = xr.DataArray(np.linspace(-NJ/2,NJ/2,NJ),coords=[Y1d],dims='lat')\n",
    "# Define xarray data array with dimensions of horizontal grid\n",
    "# (for broadcasting dimensions of other variables later in the notebook)\n",
    "hgrid = xr.DataArray(np.ones([NI,NJ]),coords=[X1d,Y1d],dims=['lon','lat'])"
   ]
  },
  {
   "cell_type": "code",
   "execution_count": 11,
   "metadata": {},
   "outputs": [
    {
     "name": "stdout",
     "output_type": "stream",
     "text": [
      "(160, 240)\n",
      "(160, 240)\n"
     ]
    }
   ],
   "source": [
    "print(Y.shape)\n",
    "print(X.shape)"
   ]
  },
  {
   "cell_type": "code",
   "execution_count": 12,
   "metadata": {},
   "outputs": [],
   "source": [
    "# Define windstress on grid\n",
    "taux_ref=0.2\n",
    "tauy_ref=0.0\n",
    "\n",
    "# Uniform\n",
    "taux=taux_ref*np.ones(Y.shape)\n",
    "tauy=tauy_ref*np.ones(Y.shape)"
   ]
  },
  {
   "cell_type": "code",
   "execution_count": 17,
   "metadata": {},
   "outputs": [],
   "source": [
    "# ___ LATITUDINAL PROFILE ___ #\n",
    "taux_ref = 0.2\n",
    "tauy_ref = 0.0\n",
    "zero_at_sponge = False\n",
    "\n",
    "# Cosine bell\n",
    "def cosbell(x):\n",
    "    a0 = 0.5\n",
    "    return a0+(1-a0)*np.cos((2*np.pi*x)/x.size)\n",
    "\n",
    "# Gaussian\n",
    "middle = SOUTHLAT+LENLAT/2\n",
    "width = LENLAT/6\n",
    "def gaussian(x, middle, width):\n",
    "   return np.exp(-np.power(x - middle, 2.) / (2 * np.power(width, 2.)))\n",
    "\n",
    "# Squared sinusoid (from Thompson and Hogg, 2017, JPO)\n",
    "eastwestdivide = -50\n",
    "taux_ref_east = 0.02\n",
    "def double_sinusoid(x,split,ratio):\n",
    "    \n",
    "\n",
    "if zero_at_sponge:\n",
    "    # Get size of the array outside the sponge region\n",
    "    NJnew = Y0.lat[~sponge_region_max].size\n",
    "    # Shift the centered coordinate, Y0\n",
    "    Y0shift = xr.DataArray(np.linspace(-NJnew/2,NJnew/2,NJnew),coords=[Y1d[~sponge_region_max]],dims='lat')\n",
    "    # Evaluate a cosine bell outside the sponge region\n",
    "    taux = taux_ref*cosbell(Y0shift)\n",
    "    # Create a zero array inside the sponge region\n",
    "    taux_zeros = xr.DataArray(np.zeros(NJ),coords=[Y1d],dims=['lat']) # Across all latitudes\n",
    "    taux_zeros = taux_zeros[sponge_region_max] # Isolated in the sponge region\n",
    "    # Append the two arrays\n",
    "    taux = xr.concat([taux, taux_zeros],dim='lat')\n",
    "else:\n",
    "    taux=taux_ref*cosbell(Y0)\n",
    "\n",
    "\n",
    "\n",
    "#taux=xr.DataArray(taux_ref*gaussian(hgrid.lat,middle,width),coords=[Y1d],dims=['lat'])\n",
    "\n",
    "#Taper in sponge region\n",
    "if zero_at_sponge:\n",
    "   taux=xr.where(sponge_region,0,taux)\n",
    "\n",
    "# Extend to 2D array\n",
    "taux=taux*hgrid\n",
    "tauy=tauy_ref*hgrid"
   ]
  },
  {
   "cell_type": "code",
   "execution_count": 30,
   "metadata": {},
   "outputs": [
    {
     "data": {
      "text/plain": [
       "[<matplotlib.lines.Line2D at 0x2ac241c374e0>]"
      ]
     },
     "execution_count": 30,
     "metadata": {},
     "output_type": "execute_result"
    },
    {
     "data": {
      "image/png": "[encoded data removed]",
      "text/plain": [
       "<Figure size 432x288 with 1 Axes>"
      ]
     },
     "metadata": {
      "needs_background": "light"
     },
     "output_type": "display_data"
    }
   ],
   "source": [
    "# Squared sinusoid (from Thompson and Hogg, 2017, JPO)\n",
    "eastwestdivide = -50\n",
    "taux_ref_east = 0.02\n",
    "Ly = NJ # Domain width\n",
    "Lr = 0 # Width of sponge region\n",
    "Y0 = eastwestdivide\n",
    "def double_sinusoid(x,Y0,Ly,Lr,ratio):\n",
    "    y = ratio*np.sin(0.5*(x-Y0)/(Ly-Lr-Y0))**2\n",
    "    return y\n",
    "x = np.arange(-60,-20,1)\n",
    "y = double_sinusoid(x,Y0,Ly,Lr,1)\n",
    "plt.plot(y)"
   ]
  },
  {
   "cell_type": "code",
   "execution_count": 29,
   "metadata": {},
   "outputs": [
    {
     "data": {
      "text/plain": [
       "array([-0.14959965, -0.13463969, -0.11967972, -0.10471976, -0.08975979,\n",
       "       -0.07479983, -0.05983986, -0.0448799 , -0.02991993, -0.01495997,\n",
       "        0.        ,  0.01495997,  0.02991993,  0.0448799 ,  0.05983986,\n",
       "        0.07479983,  0.08975979,  0.10471976,  0.11967972,  0.13463969,\n",
       "        0.14959965,  0.16455962,  0.17951958,  0.19447955,  0.20943951,\n",
       "        0.22439948,  0.23935944,  0.25431941,  0.26927937,  0.28423934,\n",
       "        0.2991993 ,  0.31415927,  0.32911923,  0.3440792 ,  0.35903916,\n",
       "        0.37399913,  0.38895909,  0.40391906,  0.41887902,  0.43383899])"
      ]
     },
     "execution_count": 29,
     "metadata": {},
     "output_type": "execute_result"
    }
   ],
   "source": [
    "y = np.pi*(x-Y0)/(Ly-Lr-Y0)\n",
    "y"
   ]
  },
  {
   "cell_type": "code",
   "execution_count": 19,
   "metadata": {},
   "outputs": [],
   "source": [
    "# Linear\n",
    "tauxs = 0; # wind stress at the south\n",
    "tauxn = 0.2; # wind stress at the north\n",
    "tauy_ref = 0.0\n",
    "\n",
    "A = (tauxs-tauxn)/(SOUTHLAT-(SOUTHLAT+LENLAT))\n",
    "B = tauxs-A*SOUTHLAT\n",
    "taux = A*Y+B\n",
    "tauy = tauy_ref*np.ones(Y.shape)"
   ]
  },
  {
   "cell_type": "code",
   "execution_count": 20,
   "metadata": {},
   "outputs": [],
   "source": [
    "# Save to forcing file\n",
    "rootdir = '/work/gam/MOM6/forcing/'\n",
    "config = 'channel'\n",
    "filename = 'wind_uniform_1deg.nc'\n",
    "\n",
    "with Dataset(rootdir+config+'/'+filename,'w') as d:\n",
    "    d.createDimension('NI',NI)\n",
    "    d.createDimension('NJ',NJ)\n",
    "    d.createVariable('taux','f8',('NJ','NI'))[:]=taux\n",
    "    d.createVariable('tauy','f8',('NJ','NI'))[:]=tauy"
   ]
  }
 ],
 "metadata": {
  "kernelspec": {
   "display_name": "Python 3",
   "language": "python",
   "name": "python3"
  },
  "language_info": {
   "codemirror_mode": {
    "name": "ipython",
    "version": 3
   },
   "file_extension": ".py",
   "mimetype": "text/x-python",
   "name": "python",
   "nbconvert_exporter": "python",
   "pygments_lexer": "ipython3",
   "version": "3.7.3"
  }
 },
 "nbformat": 4,
 "nbformat_minor": 2
}
