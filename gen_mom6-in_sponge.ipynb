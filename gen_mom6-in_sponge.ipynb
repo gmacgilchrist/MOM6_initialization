{
 "cells": [
  {
   "cell_type": "code",
   "execution_count": 28,
   "metadata": {},
   "outputs": [],
   "source": [
    "import numpy as np\n",
    "import xarray as xr\n",
    "import gsw"
   ]
  },
  {
   "cell_type": "code",
   "execution_count": 2,
   "metadata": {},
   "outputs": [],
   "source": [
    "# Specify geometry of vertical grid\n",
    "# (based on MOM6 input parameters)\n",
    "\n",
    "NK = 20\n",
    "MAXIMUM_DEPTH = 4000\n",
    "MINIMUM_DEPTH = 0\n",
    "\n",
    "# Resolve vertical grid\n",
    "# Uniform\n",
    "Z = np.linspace(MINIMUM_DEPTH,MAXIMUM_DEPTH,NK)\n",
    "\n",
    "# Specify geometry of horizontal grid\n",
    "# (for extension of profile to 3D grid)\n",
    "\n",
    "# Latitude and longitude\n",
    "SOUTHLAT=-60.0\n",
    "LENLAT=30.0\n",
    "WESTLON=0.0\n",
    "LENLON=100.0\n",
    "\n",
    "# Number of grid cells\n",
    "NI=100\n",
    "NJ=20\n",
    "\n",
    "# Grid point positions (tracer point)\n",
    "X=np.linspace(WESTLON,WESTLON+LENLON,NI+1)\n",
    "X1d=(X[1:] + X[:-1]) / 2\n",
    "Y=np.linspace(SOUTHLAT,SOUTHLAT+LENLAT,NJ+1)\n",
    "Y1d=(Y[1:] + Y[:-1]) / 2\n",
    "\n",
    "# Array of grid point positions\n",
    "X,Y=np.meshgrid(X1d,Y1d)"
   ]
  },
  {
   "cell_type": "code",
   "execution_count": 5,
   "metadata": {},
   "outputs": [],
   "source": [
    "# Load T,S initialization file that will be used to set values in sponge layer\n",
    "rootdir = '/work/gam/MOM6/initialization/'\n",
    "config = 'channel'\n",
    "filename = 'ts_analytic.nc'\n",
    "TS = xr.open_dataset(rootdir+config+'/'+filename,decode_times=False)"
   ]
  },
  {
   "cell_type": "code",
   "execution_count": 42,
   "metadata": {},
   "outputs": [
    {
     "name": "stdout",
     "output_type": "stream",
     "text": [
      "<xarray.DataArray (lat: 20, lon: 100)>\n",
      "array([[0.000000e+00, 0.000000e+00, 0.000000e+00, ..., 0.000000e+00,\n",
      "        0.000000e+00, 0.000000e+00],\n",
      "       [0.000000e+00, 0.000000e+00, 0.000000e+00, ..., 0.000000e+00,\n",
      "        0.000000e+00, 0.000000e+00],\n",
      "       [0.000000e+00, 0.000000e+00, 0.000000e+00, ..., 0.000000e+00,\n",
      "        0.000000e+00, 0.000000e+00],\n",
      "       ...,\n",
      "       [0.000000e+00, 0.000000e+00, 0.000000e+00, ..., 0.000000e+00,\n",
      "        0.000000e+00, 0.000000e+00],\n",
      "       [0.000000e+00, 0.000000e+00, 0.000000e+00, ..., 0.000000e+00,\n",
      "        0.000000e+00, 0.000000e+00],\n",
      "       [1.157407e-05, 1.157407e-05, 1.157407e-05, ..., 1.157407e-05,\n",
      "        1.157407e-05, 1.157407e-05]])\n",
      "Coordinates:\n",
      "  * lat      (lat) float64 -59.25 -57.75 -56.25 -54.75 ... -33.75 -32.25 -30.75\n",
      "  * lon      (lon) float64 0.5 1.5 2.5 3.5 4.5 5.5 ... 95.5 96.5 97.5 98.5 99.5\n"
     ]
    }
   ],
   "source": [
    "# Set inverse damping rate across model domain (in s-1)\n",
    "idampval = 1/(1*86400)\n",
    "ydamp = 2; # Degrees of lat to damp over\n",
    "\n",
    "idamp = xr.DataArray(np.zeros([NI,NJ]),coords=[X1d,Y1d],dims=['lon','lat'])\n",
    "sponge_region = idamp.coords['lat']>SOUTHLAT+LENLAT-ydamp\n",
    "idamp=xr.where(sponge_region,idampval,idamp)\n",
    "print(idamp)"
   ]
  },
  {
   "cell_type": "code",
   "execution_count": 47,
   "metadata": {},
   "outputs": [
    {
     "name": "stdout",
     "output_type": "stream",
     "text": [
      "<xarray.DataArray (depth: 20, lon: 100, lat: 20)>\n",
      "array([[[   -0.      ,    -0.      , ...,    -0.      ,    -0.      ],\n",
      "        [   -0.      ,    -0.      , ...,    -0.      ,    -0.      ],\n",
      "        ...,\n",
      "        [   -0.      ,    -0.      , ...,    -0.      ,    -0.      ],\n",
      "        [   -0.      ,    -0.      , ...,    -0.      ,    -0.      ]],\n",
      "\n",
      "       [[ -210.526316,  -210.526316, ...,  -210.526316,  -210.526316],\n",
      "        [ -210.526316,  -210.526316, ...,  -210.526316,  -210.526316],\n",
      "        ...,\n",
      "        [ -210.526316,  -210.526316, ...,  -210.526316,  -210.526316],\n",
      "        [ -210.526316,  -210.526316, ...,  -210.526316,  -210.526316]],\n",
      "\n",
      "       ...,\n",
      "\n",
      "       [[-3789.473684, -3789.473684, ..., -3789.473684, -3789.473684],\n",
      "        [-3789.473684, -3789.473684, ..., -3789.473684, -3789.473684],\n",
      "        ...,\n",
      "        [-3789.473684, -3789.473684, ..., -3789.473684, -3789.473684],\n",
      "        [-3789.473684, -3789.473684, ..., -3789.473684, -3789.473684]],\n",
      "\n",
      "       [[-4000.      , -4000.      , ..., -4000.      , -4000.      ],\n",
      "        [-4000.      , -4000.      , ..., -4000.      , -4000.      ],\n",
      "        ...,\n",
      "        [-4000.      , -4000.      , ..., -4000.      , -4000.      ],\n",
      "        [-4000.      , -4000.      , ..., -4000.      , -4000.      ]]])\n",
      "Coordinates:\n",
      "  * depth    (depth) float64 0.0 210.5 421.1 631.6 ... 3.579e+03 3.789e+03 4e+03\n",
      "  * lon      (lon) float64 0.5 1.5 2.5 3.5 4.5 5.5 ... 95.5 96.5 97.5 98.5 99.5\n",
      "  * lat      (lat) float64 -59.25 -57.75 -56.25 -54.75 ... -33.75 -32.25 -30.75\n"
     ]
    }
   ],
   "source": [
    "# Set 'interface' height (just set to ALE coordinate z-grid)\n",
    "# Broadcast depth across lat-lon domain\n",
    "eta = xr.DataArray(-Z,coords=[Z],dims=['depth'])\n",
    "eta = eta*xr.DataArray(np.ones([NI,NJ]),coords=[X1d,Y1d],dims=['lon','lat'])"
   ]
  },
  {
   "cell_type": "code",
   "execution_count": 49,
   "metadata": {},
   "outputs": [],
   "source": [
    "idamp.name='idamp'\n",
    "eta.name='eta'\n",
    "sponge = xr.merge([TS.T_interp_3D,TS.S_interp_3D,idamp,eta])\n",
    "# Transpose\n",
    "sponge = sponge.transpose('depth','lat','lon')\n",
    "\n",
    "rootdir = '/work/gam/MOM6/forcing/'\n",
    "config = 'channel'\n",
    "filename = 'sponge.nc'\n",
    "sponge.to_netcdf(rootdir+config+'/'+filename)"
   ]
  },
  {
   "cell_type": "code",
   "execution_count": null,
   "metadata": {},
   "outputs": [],
   "source": []
  }
 ],
 "metadata": {
  "kernelspec": {
   "display_name": "Python 3",
   "language": "python",
   "name": "python3"
  },
  "language_info": {
   "codemirror_mode": {
    "name": "ipython",
    "version": 3
   },
   "file_extension": ".py",
   "mimetype": "text/x-python",
   "name": "python",
   "nbconvert_exporter": "python",
   "pygments_lexer": "ipython3",
   "version": "3.7.2"
  }
 },
 "nbformat": 4,
 "nbformat_minor": 2
}
