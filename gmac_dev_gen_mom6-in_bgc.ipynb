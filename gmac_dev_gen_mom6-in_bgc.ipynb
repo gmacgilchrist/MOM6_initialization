{
 "cells": [
  {
   "cell_type": "markdown",
   "metadata": {},
   "source": [
    "# Generate input files for MOM6\n",
    "Required components\n",
    "* Horizontal grid\n",
    "    + determined externally using FRE-NCtools, loaded here to provide geometry\n",
    "* Vertical grid\n",
    "    + either calculated here, or externally\n",
    "* Sponge region\n",
    "    + calculated here\n",
    "* Intial conditions for tracers\n",
    "    + T, S and biogeochemical tracers, calculated here\n",
    "* Wind and buoyancy forcing\n",
    "    + calculated here\n",
    "* Topography\n",
    "    + calculated here\n",
    "* Inital velocity perturbation\n",
    "    + used to nudge the model\n",
    "    + calculated here\n"
   ]
  },
  {
   "cell_type": "code",
   "execution_count": 1,
   "metadata": {},
   "outputs": [],
   "source": [
    "%load_ext autoreload\n",
    "%autoreload 2"
   ]
  },
  {
   "cell_type": "code",
   "execution_count": 2,
   "metadata": {},
   "outputs": [],
   "source": [
    "import xarray as xr\n",
    "import numpy as np\n",
    "from matplotlib import pyplot as plt\n",
    "import initialization_functions as infs"
   ]
  },
  {
   "cell_type": "code",
   "execution_count": 3,
   "metadata": {},
   "outputs": [],
   "source": [
    "# Directory into which to save files\n",
    "rootdir = '/work/gam/MOM6/inputs/'\n",
    "config = 'channel'\n",
    "simulation = '4th-deg'"
   ]
  },
  {
   "cell_type": "code",
   "execution_count": 4,
   "metadata": {},
   "outputs": [],
   "source": [
    "# Load the grid\n",
    "gridpath = '/work/gam/MOM6/inputs/channel/ocean_geometry.nc'\n",
    "hgrid = xr.open_dataset(gridpath)\n",
    "hgrid_ones = xr.ones_like(hgrid['geolon'])"
   ]
  },
  {
   "cell_type": "code",
   "execution_count": 5,
   "metadata": {},
   "outputs": [],
   "source": [
    "X,Y = infs.calc_XYmeters(hgrid,center_x = True)"
   ]
  },
  {
   "cell_type": "code",
   "execution_count": 6,
   "metadata": {},
   "outputs": [],
   "source": [
    "# Vertical grid\n",
    "nk = 50\n",
    "max_depth = 4000\n",
    "min_depth = 0\n",
    "thkcello_topcell = 1\n",
    "method = 'powerlaw'\n",
    "\n",
    "vgrid = infs.calc_vgrid(nk=nk,max_depth=max_depth,min_depth=min_depth,thkcello_topcell=thkcello_topcell,method=method)\n",
    "# Save\n",
    "vgrid.to_netcdf(rootdir+config+'/'+simulation+'_vgrid'+'.nc')"
   ]
  },
  {
   "cell_type": "code",
   "execution_count": 9,
   "metadata": {},
   "outputs": [],
   "source": [
    "# Temperature and salinity initial conditions\n",
    "Tn = 10\n",
    "Ts = 0\n",
    "Sn = 35\n",
    "Ss = 33\n",
    "\n",
    "TS = xr.Dataset()\n",
    "TS['SST'] = infs.calc_distribution(coordinate = Y, function='linear', val_at_maxcoord = Tn, val_at_mincoord = Ts)\n",
    "TS['SSS'] = infs.calc_distribution(coordinate = Y, function='linear', val_at_maxcoord = Sn, val_at_mincoord = Ss)\n",
    "\n",
    "# Extend temperature and salinity in the vertical\n",
    "TS['T'] = infs.calc_distribution(coordinate=-vgrid.zt, function = 'exponential', val_at_maxcoord = TS['SST'], efolding = 800)\n",
    "TS['S'] = infs.calc_distribution(coordinate=-vgrid.zt, function = 'linear', val_at_maxcoord = TS['SSS'], val_at_mincoord = TS['SSS']+1)\n",
    "\n",
    "TS = TS.transpose('NK','lath','lonh')\n",
    "TS.to_netcdf(rootdir+config+'/'+simulation+'_TS'+'.nc')"
   ]
  },
  {
   "cell_type": "code",
   "execution_count": 10,
   "metadata": {},
   "outputs": [],
   "source": [
    "# BGC\n",
    "tracers = ['alk','cadet_arag','cadet_calc','dic','fed',\n",
    "           'fedi','felg','fedet','fesm','ldon','ldop',\n",
    "           'lith','lithdet','nbact','ndet','ndi','nlg',\n",
    "           'nsm','nh4','no3','o2','pdet','po4','srdon',\n",
    "           'srdop','sldon','sldop','sidet','silg','sio4',\n",
    "           'nsmz','nmdz','nlgz']\n",
    "tracer_vals = [0,0,0,0,0,0,0,0,0,0,0,0,0,0,0,0,0,0,0,0,0,0,0,0,0,0,0,0,0,0,0,0,0]"
   ]
  },
  {
   "cell_type": "code",
   "execution_count": 193,
   "metadata": {},
   "outputs": [],
   "source": [
    "# Sponge region\n",
    "sponge_width = [100E3,50E3]\n",
    "idampval=[1/(720*86400),1/(360*86400)]\n",
    "\n",
    "sponge = xr.Dataset()\n",
    "sponge['idamp'] = infs.def_sponge_dampingtimescale_north(Y,sponge_width=sponge_width,idampval=idampval)\n",
    "sponge['eta'] = infs.def_sponge_interfaceheight(vgrid,Y)\n",
    "\n",
    "# Add temperature and salinity profile to sponge region\n",
    "sponge['T'] = TS['T']\n",
    "sponge['S'] = TS['S']\n",
    "\n",
    "sponge = sponge.transpose('NKp1','NK','lath','lonh')\n",
    "sponge.to_netcdf(rootdir+config+'/'+simulation+'_sponge'+'.nc')"
   ]
  },
  {
   "cell_type": "code",
   "execution_count": 178,
   "metadata": {},
   "outputs": [],
   "source": [
    "# Wind forcing\n",
    "taux_east = 0.15\n",
    "taux_west = 0.05\n",
    "Y0 = 500*1E3 # Boundary between ACC/ASF\n",
    "Yb = 1200*1E3 # Meridional position of bump\n",
    "Ys = 300*1E3 # Location of continental slope\n",
    "Ws = 75*1E3 # Half-width of continental slope\n",
    "Lc = 100*1E3 # Width of shelf cooling\n",
    "\n",
    "\n",
    "wind = xr.Dataset()\n",
    "wind['taux'] = infs.calc_forcing_zonaluniform(Y,function='doublesinusoid_squared',\n",
    "                                 sponge_width_max = sponge_width[0],\n",
    "                                 northsouth_boundary = Y0,\n",
    "                                 south_zeroregion = Lc, \n",
    "                                 max_north = taux_east, \n",
    "                                 max_south = taux_west)\n",
    "wind['tauy'] = infs.calc_forcing_zonaluniform(Y,function='uniform',uniform_value = 0.0)\n",
    "\n",
    "# Save\n",
    "wind = wind.transpose('lath','lonh')\n",
    "wind.to_netcdf(rootdir+config+'/'+simulation+'_wind'+'.nc')\n",
    "\n",
    "buoyancy = xr.Dataset()\n",
    "buoyancy['LW'] = infs.calc_forcing_zonaluniform(Y,function='uniform',uniform_value = 0.0)\n",
    "buoyancy['SW'] = infs.calc_forcing_zonaluniform(Y,function='uniform',uniform_value = 0.0)\n",
    "buoyancy['sensible'] = infs.calc_forcing_zonaluniform(Y,function='uniform',uniform_value = 0.0)\n",
    "buoyancy['latent'] = infs.calc_forcing_zonaluniform(Y,function='uniform',uniform_value = 0.0)\n",
    "buoyancy['evap'] = infs.calc_forcing_zonaluniform(Y,function='uniform',uniform_value = 0.0)\n",
    "buoyancy['froz_precip'] = infs.calc_forcing_zonaluniform(Y,function='uniform',uniform_value = 0.0)\n",
    "buoyancy['froz_runoff'] = infs.calc_forcing_zonaluniform(Y,function='uniform',uniform_value = 0.0)\n",
    "buoyancy['liq_precip'] = infs.calc_forcing_zonaluniform(Y,function='uniform',uniform_value = 0.0)\n",
    "buoyancy['liq_runoff'] = infs.calc_forcing_zonaluniform(Y,function='uniform',uniform_value = 0.0)\n",
    "\n",
    "# Save\n",
    "buoyancy = buoyancy.transpose('lath','lonh')\n",
    "buoyancy.to_netcdf(rootdir+config+'/'+simulation+'_buoyancy'+'.nc')"
   ]
  },
  {
   "cell_type": "code",
   "execution_count": 167,
   "metadata": {},
   "outputs": [],
   "source": [
    "# Intial velocity nudge\n",
    "center = 0\n",
    "width = 2E5\n",
    "\n",
    "velocity = xr.Dataset()\n",
    "u = infs.calc_distribution(coordinate=X*xr.ones_like(vgrid['zt']), function = 'gaussian', center = center, width = width)\n",
    "velocity['u'] = infs.make_zeroinsponge(u,Y,sponge_width_max = sponge_width[0])\n",
    "velocity['v'] = infs.calc_distribution(coordinate=X, function = 'uniform', uniform_value = 0.0)\n",
    "\n",
    "# Save\n",
    "velocity = velocity.transpose('NK','lath','lonh')\n",
    "velocity.to_netcdf(rootdir+config+'/'+simulation+'_velocity'+'.nc')"
   ]
  },
  {
   "cell_type": "code",
   "execution_count": 179,
   "metadata": {},
   "outputs": [],
   "source": [
    "def create_shelf(H, Hs, Y1, Ys, Ws):\n",
    "    # H = max depth, Hs = shelf depth, Y1 = lat, Ys = shelf latitude, Ws = shelf width\n",
    "    depth_shelf = 0.5*(H - Hs)*(1 - np.tanh((Y1 - Ys)/Ws))\n",
    "    \n",
    "    return depth_shelf\n",
    "\n",
    "def create_2D_guassian_ridge(Hs, X1, Xs, Y1, Ys, Wx, Wy, theta):\n",
    "    # Hs = ridge height, X1 = lon, Y1 = lat, Xs, Ys = shelf lan and lat, Wx, Wy = ridge length and width\n",
    "    # ridge rotation\n",
    "    \n",
    "    a = np.cos(theta)**2/(2*Wx**2) + np.sin(theta)**2/(2*Wy**2);\n",
    "    b = -np.sin(2*theta)/(4*Wx**2) + np.sin(2*theta)/(4*Wy**2);\n",
    "    c = np.sin(theta)**2/(2*Wx**2) + np.cos(theta)**2/(2*Wy**2);\n",
    "\n",
    "    Z = Hs*np.exp( - (a*(X1-Xs)**2 + 2*b*(X1-Xs)*(Y1-Ys) + c*(Y1-Ys)**2));\n",
    "    \n",
    "    return Z\n",
    "\n",
    "def create_rectangular_bump(Hs, X1, Xs, Y1, Ys, Wx, Wy, dx, dy):\n",
    "    # Hs = max depth X1 = lon, Y1 = lat, Xs, Ys = bump lan and lat, Wx, Wy = bump length and width\n",
    "    # dx, dy = controls the rate of bump heigh decay\n",
    "    x = (X1 - Xs)/Wx\n",
    "    y = (Y1 - Ys)/Wy\n",
    "    z = np.exp(-dx/(1 - x**2) - dy/(1 - y**2))\n",
    "    \n",
    "    condition = (np.abs(x) >= 1.) | (np.abs(y) >= 1.)\n",
    "    z = z.where(~condition,0)\n",
    "    \n",
    "    z = z*Hs/np.max(z)\n",
    "    \n",
    "    return z"
   ]
  },
  {
   "cell_type": "code",
   "execution_count": 194,
   "metadata": {},
   "outputs": [],
   "source": [
    "min_shelf_depth, shelf_lat, shelf_width = (500., Ys, Ws)\n",
    "#min_shelf_depth, shelf_lat, shelf_width = (500., -48., 2.0)\n",
    "d_shelf = create_shelf(max_depth, min_shelf_depth, Y, shelf_lat, shelf_width)\n",
    "\n",
    "ridge_depth, ridge_lon, ridge_lat, ridge_width_x, ridge_width_y = (3000., -1000000., 2000000., 500000., 5000000.)\n",
    "#ridge_depth, ridge_lon, ridge_lat, ridge_width_x, ridge_width_y = (3000., 20., -35., 5.0, 50.)\n",
    "theta = -30.*np.pi/180\n",
    "d_ridge = create_2D_guassian_ridge(ridge_depth, X, ridge_lon, Y, ridge_lat, ridge_width_x, ridge_width_y, theta)\n",
    "\n",
    "bump_depth, bump_lon, bump_lat, bump_width_x, bump_width_y = (1., -1000000., 2000000., 1000000.0, 1000000.)\n",
    "#bump_depth, bump_lon, bump_lat, bump_width_x, bump_width_y = (1., 20., -40., 20.0, 15.)\n",
    "bump_decay_x, bump_decay_y = (1., 1.)\n",
    "d_bump = create_rectangular_bump(bump_depth, X, bump_lon, Y, bump_lat, bump_width_x, bump_width_y, \n",
    "                                 bump_decay_x, bump_decay_y)\n",
    "\n",
    "#height = np.maximum(d_shelf, d_ridge*d_bump) \n",
    "height = np.maximum(d_shelf, d_bump*3000.) \n",
    "\n",
    "topography = xr.Dataset()\n",
    "topography['depth'] = -1*(-max_depth + height)\n",
    "\n",
    "# Save\n",
    "topography.transpose('lath','lonh')\n",
    "topography.to_netcdf(rootdir+config+'/'+simulation+'_topography'+'.nc')"
   ]
  },
  {
   "cell_type": "code",
   "execution_count": 196,
   "metadata": {},
   "outputs": [
    {
     "data": {
      "text/plain": [
       "<matplotlib.collections.QuadMesh at 0x2abd098f2198>"
      ]
     },
     "execution_count": 196,
     "metadata": {},
     "output_type": "execute_result"
    },
    {
     "data": {
      "image/png": "[encoded data removed]",
      "text/plain": [
       "<Figure size 432x288 with 2 Axes>"
      ]
     },
     "metadata": {
      "needs_background": "light"
     },
     "output_type": "display_data"
    }
   ],
   "source": [
    "topography['depth'].plot()"
   ]
  },
  {
   "cell_type": "code",
   "execution_count": null,
   "metadata": {},
   "outputs": [],
   "source": []
  }
 ],
 "metadata": {
  "kernelspec": {
   "display_name": "Python 3",
   "language": "python",
   "name": "python3"
  },
  "language_info": {
   "codemirror_mode": {
    "name": "ipython",
    "version": 3
   },
   "file_extension": ".py",
   "mimetype": "text/x-python",
   "name": "python",
   "nbconvert_exporter": "python",
   "pygments_lexer": "ipython3",
   "version": "3.7.3"
  }
 },
 "nbformat": 4,
 "nbformat_minor": 2
}
