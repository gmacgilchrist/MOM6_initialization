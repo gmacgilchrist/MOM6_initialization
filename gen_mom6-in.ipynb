{
 "cells": [
  {
   "cell_type": "markdown",
   "metadata": {},
   "source": [
    "# Generate input files for MOM6\n",
    "Required components\n",
    "* Horizontal grid\n",
    "    + determined externally using FRE-NCtools, loaded here to provide geometry\n",
    "* Vertical grid\n",
    "    + either calculated here, or externally\n",
    "* Sponge region\n",
    "    + calculated here\n",
    "* Intial conditions for tracers\n",
    "    + T, S and biogeochemical tracers, calculated here\n",
    "* Wind and buoyancy forcing\n",
    "    + calculated here\n",
    "* Topography\n",
    "    + calculated here\n",
    "* Inital velocity perturbation\n",
    "    + used to nudge the model\n",
    "    + calculated here\n"
   ]
  },
  {
   "cell_type": "code",
   "execution_count": 42,
   "metadata": {},
   "outputs": [
    {
     "name": "stdout",
     "output_type": "stream",
     "text": [
      "The autoreload extension is already loaded. To reload it, use:\n",
      "  %reload_ext autoreload\n"
     ]
    }
   ],
   "source": [
    "%load_ext autoreload\n",
    "%autoreload 2"
   ]
  },
  {
   "cell_type": "code",
   "execution_count": 25,
   "metadata": {},
   "outputs": [],
   "source": [
    "import xarray as xr\n",
    "import numpy as np\n",
    "from matplotlib import pyplot as plt\n",
    "import initialization_functions as infs"
   ]
  },
  {
   "cell_type": "code",
   "execution_count": 26,
   "metadata": {},
   "outputs": [],
   "source": [
    "# Load the grid\n",
    "gridpath = '/work/gam/MOM6/inputs/channel/ocean_geometry.nc'\n",
    "hgrid = xr.open_dataset(gridpath)\n",
    "hgrid_ones = xr.ones_like(hgrid['geolon'])"
   ]
  },
  {
   "cell_type": "code",
   "execution_count": 27,
   "metadata": {},
   "outputs": [],
   "source": [
    "X,Y = infs.calc_XYmeters(hgrid)"
   ]
  },
  {
   "cell_type": "code",
   "execution_count": 28,
   "metadata": {},
   "outputs": [],
   "source": [
    "# Vertical grid\n",
    "nk = 50\n",
    "max_depth = 4000\n",
    "min_depth = 0\n",
    "thkcello_topcell = 1\n",
    "method = 'powerlaw'\n",
    "\n",
    "vgrid = infs.calc_vgrid(nk=nk,max_depth=max_depth,min_depth=min_depth,thkcello_topcell=thkcello_topcell,method=method)"
   ]
  },
  {
   "cell_type": "code",
   "execution_count": 30,
   "metadata": {},
   "outputs": [],
   "source": [
    "# Sponge region\n",
    "idamp = infs.def_sponge_dampingtimescale_north(hgrid,sponge_width=[4,2],idampval=[1/(720*86400),1/(360*86400)])\n",
    "eta = infs.def_sponge_interfaceheight(vgrid,hgrid)"
   ]
  },
  {
   "cell_type": "code",
   "execution_count": 43,
   "metadata": {},
   "outputs": [
    {
     "ename": "NameError",
     "evalue": "name 'val_at_maxcoord' is not defined",
     "output_type": "error",
     "traceback": [
      "\u001b[0;31m---------------------------------------------------------------------------\u001b[0m",
      "\u001b[0;31mNameError\u001b[0m                                 Traceback (most recent call last)",
      "\u001b[0;32m<ipython-input-43-6004c9fb3072>\u001b[0m in \u001b[0;36m<module>\u001b[0;34m\u001b[0m\n\u001b[1;32m      5\u001b[0m \u001b[0mSs\u001b[0m \u001b[0;34m=\u001b[0m \u001b[0;36m33\u001b[0m\u001b[0;34m\u001b[0m\u001b[0;34m\u001b[0m\u001b[0m\n\u001b[1;32m      6\u001b[0m \u001b[0;34m\u001b[0m\u001b[0m\n\u001b[0;32m----> 7\u001b[0;31m \u001b[0mSST\u001b[0m \u001b[0;34m=\u001b[0m \u001b[0minfs\u001b[0m\u001b[0;34m.\u001b[0m\u001b[0mcalc_distribution\u001b[0m\u001b[0;34m(\u001b[0m\u001b[0mcoordinate\u001b[0m \u001b[0;34m=\u001b[0m \u001b[0mY\u001b[0m\u001b[0;34m,\u001b[0m \u001b[0mfunction\u001b[0m\u001b[0;34m=\u001b[0m\u001b[0;34m'linear'\u001b[0m\u001b[0;34m,\u001b[0m \u001b[0mval_at_maxcoord\u001b[0m \u001b[0;34m=\u001b[0m \u001b[0mTn\u001b[0m\u001b[0;34m,\u001b[0m \u001b[0mval_at_mincoord\u001b[0m \u001b[0;34m=\u001b[0m \u001b[0mTs\u001b[0m\u001b[0;34m)\u001b[0m\u001b[0;34m\u001b[0m\u001b[0;34m\u001b[0m\u001b[0m\n\u001b[0m\u001b[1;32m      8\u001b[0m \u001b[0mSSS\u001b[0m \u001b[0;34m=\u001b[0m \u001b[0minfs\u001b[0m\u001b[0;34m.\u001b[0m\u001b[0mcalc_distribution\u001b[0m\u001b[0;34m(\u001b[0m\u001b[0mcoordinate\u001b[0m \u001b[0;34m=\u001b[0m \u001b[0mY\u001b[0m\u001b[0;34m,\u001b[0m \u001b[0mfunction\u001b[0m\u001b[0;34m=\u001b[0m\u001b[0;34m'linear'\u001b[0m\u001b[0;34m,\u001b[0m \u001b[0mval_at_maxcoord\u001b[0m \u001b[0;34m=\u001b[0m \u001b[0mSn\u001b[0m\u001b[0;34m,\u001b[0m \u001b[0mval_at_mincoord\u001b[0m \u001b[0;34m=\u001b[0m \u001b[0mSs\u001b[0m\u001b[0;34m)\u001b[0m\u001b[0;34m\u001b[0m\u001b[0;34m\u001b[0m\u001b[0m\n",
      "\u001b[0;32m~/projects/MOM6_initialization/initialization_functions.py\u001b[0m in \u001b[0;36mcalc_distribution\u001b[0;34m(coordinate, function, **kwargs)\u001b[0m\n\u001b[1;32m     93\u001b[0m     \u001b[0;32mif\u001b[0m \u001b[0mfunction\u001b[0m\u001b[0;34m==\u001b[0m\u001b[0;34m'linear'\u001b[0m\u001b[0;34m:\u001b[0m\u001b[0;34m\u001b[0m\u001b[0;34m\u001b[0m\u001b[0m\n\u001b[1;32m     94\u001b[0m \u001b[0;34m\u001b[0m\u001b[0m\n\u001b[0;32m---> 95\u001b[0;31m         \u001b[0mA\u001b[0m \u001b[0;34m=\u001b[0m \u001b[0;34m(\u001b[0m\u001b[0mval_at_maxcoord\u001b[0m\u001b[0;34m-\u001b[0m\u001b[0mval_at_mincoord\u001b[0m\u001b[0;34m)\u001b[0m\u001b[0;34m/\u001b[0m\u001b[0;34m(\u001b[0m\u001b[0mcoordinate\u001b[0m\u001b[0;34m.\u001b[0m\u001b[0mmax\u001b[0m\u001b[0;34m(\u001b[0m\u001b[0mxr\u001b[0m\u001b[0;34m.\u001b[0m\u001b[0mALL_DIMS\u001b[0m\u001b[0;34m)\u001b[0m\u001b[0;34m-\u001b[0m\u001b[0mcoordinate\u001b[0m\u001b[0;34m.\u001b[0m\u001b[0mmin\u001b[0m\u001b[0;34m(\u001b[0m\u001b[0mxr\u001b[0m\u001b[0;34m.\u001b[0m\u001b[0mALL_DIMS\u001b[0m\u001b[0;34m)\u001b[0m\u001b[0;34m)\u001b[0m\u001b[0;34m\u001b[0m\u001b[0;34m\u001b[0m\u001b[0m\n\u001b[0m\u001b[1;32m     96\u001b[0m         \u001b[0mB\u001b[0m \u001b[0;34m=\u001b[0m \u001b[0mval_at_mincoord\u001b[0m \u001b[0;34m-\u001b[0m \u001b[0mcoordinate\u001b[0m\u001b[0;34m.\u001b[0m\u001b[0mmin\u001b[0m\u001b[0;34m(\u001b[0m\u001b[0mxr\u001b[0m\u001b[0;34m.\u001b[0m\u001b[0mALL_DIMS\u001b[0m\u001b[0;34m)\u001b[0m\u001b[0;34m*\u001b[0m\u001b[0mA\u001b[0m\u001b[0;34m\u001b[0m\u001b[0;34m\u001b[0m\u001b[0m\n\u001b[1;32m     97\u001b[0m         \u001b[0mdistribution\u001b[0m \u001b[0;34m=\u001b[0m \u001b[0mA\u001b[0m\u001b[0;34m*\u001b[0m\u001b[0mcoordinate\u001b[0m\u001b[0;34m+\u001b[0m\u001b[0mB\u001b[0m\u001b[0;34m\u001b[0m\u001b[0;34m\u001b[0m\u001b[0m\n",
      "\u001b[0;31mNameError\u001b[0m: name 'val_at_maxcoord' is not defined"
     ]
    }
   ],
   "source": [
    "# Temperature and salinity initial conditions\n",
    "Tn = 10\n",
    "Ts = 0\n",
    "Sn = 35\n",
    "Ss = 33\n",
    "\n",
    "SST = infs.calc_distribution(coordinate = Y, function='linear', val_at_maxcoord = Tn, val_at_mincoord = Ts)\n",
    "SSS = infs.calc_distribution(coordinate = Y, function='linear', val_at_maxcoord = Sn, val_at_mincoord = Ss)"
   ]
  },
  {
   "cell_type": "code",
   "execution_count": null,
   "metadata": {},
   "outputs": [],
   "source": [
    "Sprofile = infs.calc_distribution(coordinate= -vgrid.zt, val_at_maxcoord)"
   ]
  },
  {
   "cell_type": "code",
   "execution_count": 20,
   "metadata": {},
   "outputs": [
    {
     "data": {
      "text/plain": [
       "<matplotlib.collections.QuadMesh at 0x2b69462f4160>"
      ]
     },
     "execution_count": 20,
     "metadata": {},
     "output_type": "execute_result"
    },
    {
     "data": {
      "image/png": "[encoded data removed]",
      "text/plain": [
       "<Figure size 432x288 with 2 Axes>"
      ]
     },
     "metadata": {
      "needs_background": "light"
     },
     "output_type": "display_data"
    }
   ],
   "source": [
    "calc_init_SST(hgrid,Tn,Ts,function='linear')\n",
    "calc_init_Tprofile(vgrid,SST,function='exponential',efolding=800)\n",
    "calc_init_SSS(hgrid,Tn,Ts,function='linear')\n",
    "calc_init_Sprofile(vgrid,SSS,function='')"
   ]
  },
  {
   "cell_type": "code",
   "execution_count": 46,
   "metadata": {},
   "outputs": [
    {
     "data": {
      "text/plain": [
       "<xarray.DataArray 'zw' (NKp1: 51)>\n",
       "array([0.000000e+00, 1.000000e+00, 4.347371e+00, 1.026988e+01, 1.889964e+01,\n",
       "       3.033309e+01, 4.464699e+01, 6.190547e+01, 8.216375e+01, 1.054705e+02,\n",
       "       1.318692e+02, 1.613994e+02, 1.940971e+02, 2.299956e+02, 2.691261e+02,\n",
       "       3.115172e+02, 3.571963e+02, 4.061890e+02, 4.585194e+02, 5.142105e+02,\n",
       "       5.732844e+02, 6.357619e+02, 7.016630e+02, 7.710069e+02, 8.438120e+02,\n",
       "       9.200962e+02, 9.998765e+02, 1.083169e+03, 1.169991e+03, 1.260357e+03,\n",
       "       1.354281e+03, 1.451779e+03, 1.552865e+03, 1.657552e+03, 1.765854e+03,\n",
       "       1.877784e+03, 1.993354e+03, 2.112577e+03, 2.235464e+03, 2.362028e+03,\n",
       "       2.492280e+03, 2.626231e+03, 2.763893e+03, 2.905275e+03, 3.050389e+03,\n",
       "       3.199245e+03, 3.351853e+03, 3.508223e+03, 3.668364e+03, 3.832287e+03,\n",
       "       4.000000e+03])\n",
       "Coordinates:\n",
       "  * NKp1     (NKp1) float64 0.0 1.0 4.347 10.27 ... 3.668e+03 3.832e+03 4e+03"
      ]
     },
     "execution_count": 46,
     "metadata": {},
     "output_type": "execute_result"
    }
   ],
   "source": [
    "vgrid['zw']"
   ]
  },
  {
   "cell_type": "code",
   "execution_count": null,
   "metadata": {},
   "outputs": [],
   "source": []
  }
 ],
 "metadata": {
  "kernelspec": {
   "display_name": "Python 3",
   "language": "python",
   "name": "python3"
  },
  "language_info": {
   "codemirror_mode": {
    "name": "ipython",
    "version": 3
   },
   "file_extension": ".py",
   "mimetype": "text/x-python",
   "name": "python",
   "nbconvert_exporter": "python",
   "pygments_lexer": "ipython3",
   "version": "3.7.3"
  }
 },
 "nbformat": 4,
 "nbformat_minor": 2
}
