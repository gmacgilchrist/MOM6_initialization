{
 "cells": [
  {
   "cell_type": "markdown",
   "metadata": {},
   "source": [
    "# Generate input files for MOM6\n",
    "Each cell corresponds to a different component of the initialization  \n",
    "This includes grid, sponge, TS, wind forcing, buoyancy forcing  \n",
    "Save netcdf files to the INPUT file of the configuration, with a simulation-specific name"
   ]
  },
  {
   "cell_type": "code",
   "execution_count": 1,
   "metadata": {},
   "outputs": [],
   "source": [
    "import numpy as np\n",
    "import xarray as xr\n",
    "from matplotlib import pyplot as plt\n",
    "\n",
    "rootdir = '/Users/hemantkhatri/Documents/Acads/GFDL/Github_scripts/GFDL_Graeme/channel'\n",
    "config = 'Idealised_SO'\n",
    "simulation = '4th-deg'"
   ]
  },
  {
   "cell_type": "markdown",
   "metadata": {},
   "source": [
    "# Grid\n",
    "Define the parameters of the grid  \n",
    "Output the vertical and horizontal coordinate, and a 2D mesh of the horizontal coordinates  "
   ]
  },
  {
   "cell_type": "code",
   "execution_count": 4,
   "metadata": {},
   "outputs": [],
   "source": [
    "# ___ HORIZONTAL GRID ___#\n",
    "# Specify geometry of horizontal grid and it MUST BE CONSISTENT WITH THE MODEL GRID\n",
    "# Latitude and longitude\n",
    "SOUTHLAT, LENLAT = (-70.0, 50.0)\n",
    "WESTLON, LENLON = (0.0, 80.0)\n",
    "\n",
    "MAXIMUM_DEPTH, MINIMUM_DEPTH = (4000., 0.)\n",
    "\n",
    "# Number of grid cells\n",
    "NI, NJ = (int(LENLON*4), int(LENLAT*4))\n",
    "\n",
    "# Grid point positions (tracer point)\n",
    "X = np.linspace(WESTLON,WESTLON+LENLON,NI+1)\n",
    "X1d = (X[1:] + X[:-1]) / 2\n",
    "Y = np.linspace(SOUTHLAT,SOUTHLAT+LENLAT,NJ+1)\n",
    "Y1d = (Y[1:] + Y[:-1]) / 2\n",
    "X,Y = np.meshgrid(X1d,Y1d)\n",
    "\n",
    "# Define lat and lon dimensions set to zero at the midpoint\n",
    "X0 = xr.DataArray(np.linspace(-NI/2,NI/2,NI),coords=[X1d],dims='lon')\n",
    "Y0 = xr.DataArray(np.linspace(-NJ/2,NJ/2,NJ),coords=[Y1d],dims='lat')\n",
    "# Define xarray data array with dimensions of horizontal grid\n",
    "# (for broadcasting dimensions of other variables later in the notebook)\n",
    "hgrid = xr.DataArray(np.ones([NI,NJ]),coords=[X1d,Y1d],dims=['lon','lat'])\n"
   ]
  },
  {
   "cell_type": "markdown",
   "metadata": {},
   "source": [
    "# Defile Topography\n",
    "Includes a shelf ridge on the southern boundary and elongated ridge structure in the middle of the domain smoothly decaying to zero at some points."
   ]
  },
  {
   "cell_type": "code",
   "execution_count": 33,
   "metadata": {},
   "outputs": [],
   "source": [
    "def create_shelf(H, Hs, Y1, Ys, Ws):\n",
    "    # H = max depth, Hs = shelf depth, Y1 = lat, Ys = shelf latitude, Ws = shelf width\n",
    "    depth_shelf = 0.5*(H - Hs)*(1 - np.tanh((Y1 - Ys)/Ws))\n",
    "    \n",
    "    return depth_shelf\n",
    "\n",
    "def create_ridge_bump(Hs, X1, Xs, Y1, Ys, W1s, W2s):\n",
    "    # H = max depth, Hs = ridge depth, X1 = lon, Y1 = lat, Xs, Ys = shelf lan and lat, W1s, W2s = ridge length and width\n",
    "    bump_X = np.exp(-((X1 - Xs)/W1s)**2)\n",
    "    bump_Y = np.exp(-((Y1 - Ys)/W2s)**2)\n",
    "    depth_bump = Hs*bump_X*bump_Y\n",
    "    \n",
    "    return depth_bump\n",
    "    \n",
    "depth = MAXIMUM_DEPTH*hgrid\n",
    "\n",
    "min_shelf_depth, shelf_lat, shelf_width = (500., -60., 3.0)\n",
    "d_shelf = create_shelf(MAXIMUM_DEPTH, min_shelf_depth, hgrid.lat, shelf_lat, shelf_width)\n",
    "\n",
    "max_bump_height, bump_lon, bump_lat = (3000., 20., -40)\n",
    "bump_width_X, bump_width_Y = (10., 10.)\n",
    "\n",
    "d_bump = create_ridge_bump(max_bump_height, hgrid.lon, bump_lon, hgrid.lat, bump_lat, bump_width_X, bump_width_Y)"
   ]
  },
  {
   "cell_type": "code",
   "execution_count": 34,
   "metadata": {},
   "outputs": [
    {
     "data": {
      "text/plain": [
       "[<matplotlib.lines.Line2D at 0x319c1b990>]"
      ]
     },
     "execution_count": 34,
     "metadata": {},
     "output_type": "execute_result"
    },
    {
     "data": {
      "image/png": "[encoded data removed]",
      "text/plain": [
       "<Figure size 432x288 with 1 Axes>"
      ]
     },
     "metadata": {
      "needs_background": "light"
     },
     "output_type": "display_data"
    }
   ],
   "source": [
    "#hgrid.lat\n",
    "plt.plot(d_shelf)"
   ]
  },
  {
   "cell_type": "code",
   "execution_count": 36,
   "metadata": {},
   "outputs": [
    {
     "data": {
      "text/plain": [
       "<matplotlib.colorbar.Colorbar at 0x31a541d50>"
      ]
     },
     "execution_count": 36,
     "metadata": {},
     "output_type": "execute_result"
    },
    {
     "data": {
      "image/png": "[encoded data removed]",
      "text/plain": [
       "<Figure size 432x288 with 2 Axes>"
      ]
     },
     "metadata": {
      "needs_background": "light"
     },
     "output_type": "display_data"
    }
   ],
   "source": [
    "plt.contourf(hgrid.lon, hgrid.lat, (d_bump + d_shelf).transpose())\n",
    "plt.colorbar()"
   ]
  },
  {
   "cell_type": "code",
   "execution_count": null,
   "metadata": {},
   "outputs": [],
   "source": []
  }
 ],
 "metadata": {
  "kernelspec": {
   "display_name": "Python 3",
   "language": "python",
   "name": "python3"
  },
  "language_info": {
   "codemirror_mode": {
    "name": "ipython",
    "version": 3
   },
   "file_extension": ".py",
   "mimetype": "text/x-python",
   "name": "python",
   "nbconvert_exporter": "python",
   "pygments_lexer": "ipython3",
   "version": "3.7.4"
  }
 },
 "nbformat": 4,
 "nbformat_minor": 2
}
