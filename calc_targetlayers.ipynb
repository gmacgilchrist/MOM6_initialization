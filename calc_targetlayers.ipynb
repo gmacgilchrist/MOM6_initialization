{
 "cells": [
  {
   "cell_type": "code",
   "execution_count": 5,
   "metadata": {
    "tags": []
   },
   "outputs": [],
   "source": [
    "import numpy as np\n",
    "import xarray as xr"
   ]
  },
  {
   "cell_type": "code",
   "execution_count": 7,
   "metadata": {
    "tags": []
   },
   "outputs": [],
   "source": [
    "layername = 'rho0'\n",
    "units = 'kg m-3'\n",
    "nk = 20\n",
    "lmin = 1025\n",
    "lmax = 1028\n",
    "data = np.linspace(lmin,lmax,nk)\n",
    "layers = xr.DataArray(\n",
    "    data=data,\n",
    "    dims=['z_i'],\n",
    "    coords={'z_i':data},\n",
    "    name='interfaces',\n",
    "    attrs={'units':units}\n",
    ")"
   ]
  },
  {
   "cell_type": "code",
   "execution_count": 11,
   "metadata": {
    "tags": []
   },
   "outputs": [],
   "source": [
    "experiment = 'single_column'\n",
    "config = 'EPBL_diagrho0'\n",
    "layersfile = 'targetlayers_'+layername+'.nc'\n",
    "\n",
    "basedir = '/Users/gam24/Documents/research/pkgs/MOM6-examples/ocean_only'\n",
    "localdir = '/'.join([experiment,config])\n",
    "path='/'.join([basedir,localdir,layersfile])"
   ]
  },
  {
   "cell_type": "code",
   "execution_count": 15,
   "metadata": {
    "tags": []
   },
   "outputs": [],
   "source": [
    "layers.to_netcdf(path)"
   ]
  },
  {
   "cell_type": "code",
   "execution_count": null,
   "metadata": {},
   "outputs": [],
   "source": []
  }
 ],
 "metadata": {
  "kernelspec": {
   "display_name": "Python 3 (ipykernel)",
   "language": "python",
   "name": "python3"
  },
  "language_info": {
   "codemirror_mode": {
    "name": "ipython",
    "version": 3
   },
   "file_extension": ".py",
   "mimetype": "text/x-python",
   "name": "python",
   "nbconvert_exporter": "python",
   "pygments_lexer": "ipython3",
   "version": "3.11.5"
  }
 },
 "nbformat": 4,
 "nbformat_minor": 4
}
