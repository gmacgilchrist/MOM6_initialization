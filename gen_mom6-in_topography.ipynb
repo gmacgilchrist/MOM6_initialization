{
 "cells": [
  {
   "cell_type": "markdown",
   "metadata": {},
   "source": [
    "# Generate synthetic topography files\n",
    "Create 2D arrays of bottom depth, h, for input to MOM6  \n",
    "Including both 'designed' topography (flat bottom with continental slope and ridge) and random topography (generated from spectrum)"
   ]
  },
  {
   "cell_type": "code",
   "execution_count": 1,
   "metadata": {},
   "outputs": [],
   "source": [
    "import numpy as np\n",
    "import xarray as xr\n",
    "from matplotlib import pyplot as plt"
   ]
  },
  {
   "cell_type": "code",
   "execution_count": 3,
   "metadata": {},
   "outputs": [],
   "source": [
    "rootdir = '/work/gam/MOM6/inputs/'\n",
    "config = 'channel'\n",
    "simulation = '4th-deg'"
   ]
  },
  {
   "cell_type": "code",
   "execution_count": 6,
   "metadata": {},
   "outputs": [],
   "source": [
    "# ___ HORIZONTAL GRID ___#\n",
    "# Specify geometry of horizontal grid\n",
    "# MUST BE CONSISTENT WITH THE MODEL GRID\n",
    "# Latitude and longitude\n",
    "SOUTHLAT=-65.0\n",
    "LENLAT=40.0\n",
    "WESTLON=0.0\n",
    "LENLON=60.0\n",
    "\n",
    "# Number of grid cells\n",
    "NI=int(LENLON*4)\n",
    "NJ=int(LENLAT*4)\n",
    "\n",
    "# Grid point positions (tracer point)\n",
    "X=np.linspace(WESTLON,WESTLON+LENLON,NI+1)\n",
    "X1d=(X[1:] + X[:-1]) / 2\n",
    "Y=np.linspace(SOUTHLAT,SOUTHLAT+LENLAT,NJ+1)\n",
    "Y1d=(Y[1:] + Y[:-1]) / 2\n",
    "# 2D mesh of grid point positions\n",
    "X,Y=np.meshgrid(X1d,Y1d)\n",
    "# Define xarray data array with dimensions of horizontal grid\n",
    "# (for broadcasting dimensions of other variables later in the notebook)\n",
    "hgrid = xr.DataArray(np.ones([NI,NJ]),coords=[X1d,Y1d],dims=['lon','lat'])\n",
    "\n",
    "# Define lat and lon dimensions set to zero at the midpoint\n",
    "X0 = xr.DataArray(np.linspace(-NI/2,NI/2,NI),coords=[X1d],dims='lon')\n",
    "Y0 = xr.DataArray(np.linspace(-NJ/2,NJ/2,NJ),coords=[Y1d],dims='lat')\n",
    "\n",
    "# ___ VERTICAL GRID ___ #\n",
    "# Specify geometry of vertical grid\n",
    "# (based on MOM6 input parameters)\n",
    "\n",
    "# Number of grid cells\n",
    "NK = 20\n",
    "\n",
    "MAXIMUM_DEPTH = 4000\n",
    "MINIMUM_DEPTH = 0"
   ]
  },
  {
   "cell_type": "markdown",
   "metadata": {},
   "source": [
    "# Designed topography\n",
    "Borrowing python scripts from Luwei Yang to generate channel topography with continental slope and ridge"
   ]
  },
  {
   "cell_type": "code",
   "execution_count": 43,
   "metadata": {},
   "outputs": [
    {
     "data": {
      "text/plain": [
       "<matplotlib.colorbar.Colorbar at 0x2ab7081cb898>"
      ]
     },
     "execution_count": 43,
     "metadata": {},
     "output_type": "execute_result"
    },
    {
     "data": {
      "image/png": "[encoded data removed]",
      "text/plain": [
       "<Figure size 432x288 with 2 Axes>"
      ]
     },
     "metadata": {
      "needs_background": "light"
     },
     "output_type": "display_data"
    }
   ],
   "source": [
    "# ___ CREATE TOPOGRAPHY ___ #\n",
    "# Note that MOM6 takes DEPTH (not HEIGHT) for its topography, so it is positive number\n",
    "\n",
    "def create_ridge(D=0,A=500,p=1,o=0,r=0,w=1):\n",
    "    # Create a bumpy ridge by setting a sine wave in the meridional direction and multiplying \n",
    "    ridge = (D+A*np.sin(p*(2*np.pi)/LENLAT*hgrid.lat))/np.cosh((X0+o+r*Y0)/w)\n",
    "    return ridge\n",
    "\n",
    "# Set bathymetry to maximum depth\n",
    "depth = MAXIMUM_DEPTH*hgrid\n",
    "\n",
    "# Create RIDGE 1\n",
    "D = 2000 # Height off maximum depth\n",
    "A = 400 # Sine wave amplitude\n",
    "p = 5 # Wavenumber of ridge in latitude\n",
    "o = LENLON/2 # Longitudinal offset from centre (positive is to the left)\n",
    "r = -0.2 # Rotation (poitive is anti-clockwise)\n",
    "w = 7 # Longitudinal width factor (>1 increases the width, <1 decreases)\n",
    "r1 = create_ridge(D,A,p,o,r,w)\n",
    "\n",
    "# Create RIDGE 2\n",
    "D = 0\n",
    "A = 200 # Sine wave amplitude\n",
    "p = 20 # Wavenumber of ridge in latitude\n",
    "w = 5 # Longitudinal width factor (>1 increases the width, <1 decreases)\n",
    "r2 = create_ridge(D,A,p,o,r,w)\n",
    "\n",
    "# Create RIDGE 3\n",
    "D = 0\n",
    "A = 100 # Sine wave amplitude\n",
    "p = 30 # Wavenumber of ridge in latitude\n",
    "w = 3 # Longitudinal width factor (>1 increases the width, <1 decreases)\n",
    "r3 = create_ridge(D,A,p,o,r,w)\n",
    "\n",
    "# Create RIDGE 2, 3, 4 etc.\n",
    "\n",
    "# Add ridges to bathymetry\n",
    "depth = depth - r1 - r2 - r3\n",
    "\n",
    "# Add a continental slope next to Antarctica\n",
    "depth = np.minimum(depth,3e2*(Y0+NJ/2))\n",
    "\n",
    "# Unify meridional depth within the sponge layer\n",
    "ydamp = 2; # Must coincide with width of sponge layer in model\n",
    "sponge_region = hgrid.coords['lat']>SOUTHLAT+LENLAT-ydamp\n",
    "# Set topography in sponge region to be the same as the depth at its most southerly grid cell\n",
    "depth=xr.where(sponge_region,depth.sel(lat=sponge_region).isel(lat=0),depth)\n",
    "\n",
    "# Impose minimum depth\n",
    "depth=xr.where(depth<MINIMUM_DEPTH,MINIMUM_DEPTH,depth)\n",
    "\n",
    "# ___ SAVE OUTPUT ___ #\n",
    "# Combine arrays to one dataset\n",
    "depth.name='depth'\n",
    "depth.transpose('lat','lon')\n",
    "depth.to_netcdf(rootdir+config+'/'+simulation+'_topography'+'.nc')\n",
    "\n",
    "# Plot to check\n",
    "im=plt.pcolormesh(-depth)\n",
    "plt.colorbar(im)"
   ]
  },
  {
   "cell_type": "markdown",
   "metadata": {},
   "source": [
    "# Random topography\n",
    "Generate random topographic fields with power spectra that correspond to the power spectra of the Southern Ocean"
   ]
  },
  {
   "cell_type": "code",
   "execution_count": null,
   "metadata": {},
   "outputs": [],
   "source": []
  }
 ],
 "metadata": {
  "kernelspec": {
   "display_name": "Python 3",
   "language": "python",
   "name": "python3"
  },
  "language_info": {
   "codemirror_mode": {
    "name": "ipython",
    "version": 3
   },
   "file_extension": ".py",
   "mimetype": "text/x-python",
   "name": "python",
   "nbconvert_exporter": "python",
   "pygments_lexer": "ipython3",
   "version": "3.7.3"
  }
 },
 "nbformat": 4,
 "nbformat_minor": 2
}
