{
 "cells": [
  {
   "cell_type": "markdown",
   "metadata": {},
   "source": [
    "# Generate buoyancy forcing for MOM6"
   ]
  },
  {
   "cell_type": "code",
   "execution_count": 5,
   "metadata": {},
   "outputs": [],
   "source": [
    "import numpy as np\n",
    "from netCDF4 import Dataset"
   ]
  },
  {
   "cell_type": "code",
   "execution_count": 6,
   "metadata": {},
   "outputs": [],
   "source": [
    "# Specify geometry of horizontal grid\n",
    "# (based on MOM6 input parameters)\n",
    "\n",
    "# Latitude and longitude\n",
    "SOUTHLAT=-60.0\n",
    "LENLAT=20.0\n",
    "WESTLON=0.0\n",
    "LENLON=100.0\n",
    "\n",
    "# Number of grid cells\n",
    "NI=100\n",
    "NJ=20\n",
    "\n",
    "# Grid spacing\n",
    "DX=LENLON/NI\n",
    "DY=LENLAT/NJ\n",
    "\n",
    "# Grid point positions (tracer point)\n",
    "X=np.linspace(WESTLON,WESTLON+LENLON,NI+1)\n",
    "X=(X[1:] + X[:-1]) / 2\n",
    "Y=np.linspace(SOUTHLAT,SOUTHLAT+LENLAT,NJ+1)\n",
    "Y=(Y[1:] + Y[:-1]) / 2\n",
    "\n",
    "# Array of grid point positions\n",
    "X,Y=np.meshgrid(X,Y)"
   ]
  },
  {
   "cell_type": "code",
   "execution_count": 7,
   "metadata": {},
   "outputs": [],
   "source": [
    "# Define buoyancy forcing on grid\n",
    "LW_ref=0.0\n",
    "SW_ref=0.0\n",
    "sensible_ref = 0.0\n",
    "latent_ref = 0.0\n",
    "evap_ref = 0.0\n",
    "froz_precip_ref = 0.0\n",
    "froz_runoff_ref = 0.0\n",
    "liq_precip_ref = 0.0\n",
    "liq_runoff_ref = 0.0\n",
    "\n",
    "# Uniform\n",
    "LW = LW_ref*np.ones(Y.shape)\n",
    "SW = SW_ref*np.ones(Y.shape)\n",
    "sensible = sensible_ref*np.ones(Y.shape)\n",
    "latent = latent_ref*np.ones(Y.shape)\n",
    "evap = evap_ref*np.ones(Y.shape)\n",
    "froz_precip = froz_precip_ref*np.ones(Y.shape)\n",
    "froz_runoff = froz_runoff_ref*np.ones(Y.shape)\n",
    "liq_precip = liq_precip_ref*np.ones(Y.shape)\n",
    "liq_runoff = liq_runoff_ref*np.ones(Y.shape)\n"
   ]
  },
  {
   "cell_type": "code",
   "execution_count": 8,
   "metadata": {},
   "outputs": [],
   "source": [
    "# Save to forcing file\n",
    "rootdir = '/work/gam/MOM6/forcing/'\n",
    "config = 'channel'\n",
    "filename = 'buoy_uniform_1deg.nc'\n",
    "\n",
    "with Dataset(rootdir+config+'/'+filename,'w') as d:\n",
    "    d.createDimension('NI',NI)\n",
    "    d.createDimension('NJ',NJ)\n",
    "    d.createVariable('LW','f8',('NJ','NI'))[:]=LW\n",
    "    d.createVariable('SW','f8',('NJ','NI'))[:]=SW\n",
    "    d.createVariable('sensible','f8',('NJ','NI'))[:]=sensible\n",
    "    d.createVariable('latent','f8',('NJ','NI'))[:]=latent\n",
    "    d.createVariable('evap','f8',('NJ','NI'))[:]=evap\n",
    "    d.createVariable('froz_precip','f8',('NJ','NI'))[:]=froz_precip\n",
    "    d.createVariable('froz_runoff','f8',('NJ','NI'))[:]=froz_runoff\n",
    "    d.createVariable('liq_precip','f8',('NJ','NI'))[:]=liq_precip\n",
    "    d.createVariable('liq_runoff','f8',('NJ','NI'))[:]=liq_runoff\n",
    "    "
   ]
  },
  {
   "cell_type": "code",
   "execution_count": null,
   "metadata": {},
   "outputs": [],
   "source": []
  }
 ],
 "metadata": {
  "kernelspec": {
   "display_name": "Python 3",
   "language": "python",
   "name": "python3"
  },
  "language_info": {
   "codemirror_mode": {
    "name": "ipython",
    "version": 3
   },
   "file_extension": ".py",
   "mimetype": "text/x-python",
   "name": "python",
   "nbconvert_exporter": "python",
   "pygments_lexer": "ipython3",
   "version": "3.7.2"
  }
 },
 "nbformat": 4,
 "nbformat_minor": 2
}
